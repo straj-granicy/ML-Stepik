{
  "nbformat": 4,
  "nbformat_minor": 0,
  "metadata": {
    "colab": {
      "name": "210203 Stepik Ml contest.ipynb",
      "provenance": [],
      "collapsed_sections": [],
      "authorship_tag": "ABX9TyN0DM+3P2fVahenWwRz8dHo",
      "include_colab_link": true
    },
    "kernelspec": {
      "name": "python3",
      "display_name": "Python 3"
    }
  },
  "cells": [
    {
      "cell_type": "markdown",
      "metadata": {
        "id": "view-in-github",
        "colab_type": "text"
      },
      "source": [
        "<a href=\"https://colab.research.google.com/github/straj-granicy/ML-Stepik/blob/master/210203_Stepik_Ml_contest.ipynb\" target=\"_parent\"><img src=\"https://colab.research.google.com/assets/colab-badge.svg\" alt=\"Open In Colab\"/></a>"
      ]
    },
    {
      "cell_type": "markdown",
      "metadata": {
        "id": "co19VTzTPTPb"
      },
      "source": [
        "events_train.csv - данные о действиях, которые совершают студенты со стэпами\n",
        "\n",
        "    step_id - id стэпа\n",
        "    user_id - анонимизированный id юзера\n",
        "    timestamp - время наступления события в формате unix date\n",
        "    action - событие, возможные значения: \n",
        "\n",
        "    discovered - пользователь перешел на стэп\n",
        "    viewed - просмотр шага,\n",
        "    started_attempt - начало попытки решить шаг, ранее нужно было явно нажать на кнопку - начать решение, перед тем как приступить к решению практического шага\n",
        "    passed - удачное решение практического шага\n",
        "    submissions_train.csv - данные о времени и статусах сабмитов к практическим заданиям\n",
        "\n",
        "    step_id - id стэпа\n",
        "    timestamp - время отправки решения в формате unix date\n",
        "    submission_status - статус решения\n",
        "    user_id - анонимизированный id юзера"
      ]
    },
    {
      "cell_type": "code",
      "metadata": {
        "id": "3xq18i-vNKOL"
      },
      "source": [
        "import pandas as pd\n",
        "import numpy as np\n",
        "% matplotlib inline\n",
        "import matplotlib as plt\n",
        "import seaborn as sns"
      ],
      "execution_count": 1,
      "outputs": []
    },
    {
      "cell_type": "markdown",
      "metadata": {
        "id": "mRFbw0KoRkYo"
      },
      "source": [
        "*настройка* графика"
      ]
    },
    {
      "cell_type": "code",
      "metadata": {
        "id": "3utddNkvRlXX"
      },
      "source": [
        "sns.set(rc={'figure.figsize':(9,6)})"
      ],
      "execution_count": 2,
      "outputs": []
    },
    {
      "cell_type": "code",
      "metadata": {
        "id": "AA0aGyZ2Rod7"
      },
      "source": [
        "events_data=pd.read_csv('event_data_train.csv')"
      ],
      "execution_count": 3,
      "outputs": []
    },
    {
      "cell_type": "markdown",
      "metadata": {
        "id": "gsuLIG-kSVIp"
      },
      "source": [
        "обрати внимание - дата записана в timesstamp uniqsdate.возможно хорошо для оптимизации модели. это количество секунд,которые прошли с определенной даты (тут - 1 января 1970)\n"
      ]
    },
    {
      "cell_type": "code",
      "metadata": {
        "colab": {
          "base_uri": "https://localhost:8080/",
          "height": 363
        },
        "id": "7T_A3IlLSV1w",
        "outputId": "ad803052-cbf5-44f6-9562-2ee6f80bf605"
      },
      "source": [
        "events_data.head(10)"
      ],
      "execution_count": 4,
      "outputs": [
        {
          "output_type": "execute_result",
          "data": {
            "text/html": [
              "<div>\n",
              "<style scoped>\n",
              "    .dataframe tbody tr th:only-of-type {\n",
              "        vertical-align: middle;\n",
              "    }\n",
              "\n",
              "    .dataframe tbody tr th {\n",
              "        vertical-align: top;\n",
              "    }\n",
              "\n",
              "    .dataframe thead th {\n",
              "        text-align: right;\n",
              "    }\n",
              "</style>\n",
              "<table border=\"1\" class=\"dataframe\">\n",
              "  <thead>\n",
              "    <tr style=\"text-align: right;\">\n",
              "      <th></th>\n",
              "      <th>step_id</th>\n",
              "      <th>timestamp</th>\n",
              "      <th>action</th>\n",
              "      <th>user_id</th>\n",
              "    </tr>\n",
              "  </thead>\n",
              "  <tbody>\n",
              "    <tr>\n",
              "      <th>0</th>\n",
              "      <td>32815</td>\n",
              "      <td>1434340848</td>\n",
              "      <td>viewed</td>\n",
              "      <td>17632.0</td>\n",
              "    </tr>\n",
              "    <tr>\n",
              "      <th>1</th>\n",
              "      <td>32815</td>\n",
              "      <td>1434340848</td>\n",
              "      <td>passed</td>\n",
              "      <td>17632.0</td>\n",
              "    </tr>\n",
              "    <tr>\n",
              "      <th>2</th>\n",
              "      <td>32815</td>\n",
              "      <td>1434340848</td>\n",
              "      <td>discovered</td>\n",
              "      <td>17632.0</td>\n",
              "    </tr>\n",
              "    <tr>\n",
              "      <th>3</th>\n",
              "      <td>32811</td>\n",
              "      <td>1434340895</td>\n",
              "      <td>discovered</td>\n",
              "      <td>17632.0</td>\n",
              "    </tr>\n",
              "    <tr>\n",
              "      <th>4</th>\n",
              "      <td>32811</td>\n",
              "      <td>1434340895</td>\n",
              "      <td>viewed</td>\n",
              "      <td>17632.0</td>\n",
              "    </tr>\n",
              "    <tr>\n",
              "      <th>5</th>\n",
              "      <td>32811</td>\n",
              "      <td>1434340895</td>\n",
              "      <td>passed</td>\n",
              "      <td>17632.0</td>\n",
              "    </tr>\n",
              "    <tr>\n",
              "      <th>6</th>\n",
              "      <td>32929</td>\n",
              "      <td>1434340921</td>\n",
              "      <td>discovered</td>\n",
              "      <td>17632.0</td>\n",
              "    </tr>\n",
              "    <tr>\n",
              "      <th>7</th>\n",
              "      <td>32929</td>\n",
              "      <td>1434340921</td>\n",
              "      <td>viewed</td>\n",
              "      <td>17632.0</td>\n",
              "    </tr>\n",
              "    <tr>\n",
              "      <th>8</th>\n",
              "      <td>32929</td>\n",
              "      <td>1434340939</td>\n",
              "      <td>started_attempt</td>\n",
              "      <td>17632.0</td>\n",
              "    </tr>\n",
              "    <tr>\n",
              "      <th>9</th>\n",
              "      <td>32929</td>\n",
              "      <td>1434340944</td>\n",
              "      <td>passed</td>\n",
              "      <td>17632.0</td>\n",
              "    </tr>\n",
              "  </tbody>\n",
              "</table>\n",
              "</div>"
            ],
            "text/plain": [
              "   step_id   timestamp           action  user_id\n",
              "0    32815  1434340848           viewed  17632.0\n",
              "1    32815  1434340848           passed  17632.0\n",
              "2    32815  1434340848       discovered  17632.0\n",
              "3    32811  1434340895       discovered  17632.0\n",
              "4    32811  1434340895           viewed  17632.0\n",
              "5    32811  1434340895           passed  17632.0\n",
              "6    32929  1434340921       discovered  17632.0\n",
              "7    32929  1434340921           viewed  17632.0\n",
              "8    32929  1434340939  started_attempt  17632.0\n",
              "9    32929  1434340944           passed  17632.0"
            ]
          },
          "metadata": {
            "tags": []
          },
          "execution_count": 4
        }
      ]
    },
    {
      "cell_type": "markdown",
      "metadata": {
        "id": "RAeVW8CoSdt6"
      },
      "source": [
        "timestamp можно сравнивать с значениями - !!"
      ]
    },
    {
      "cell_type": "markdown",
      "metadata": {
        "id": "hQNQJM3gSeO7"
      },
      "source": [
        "Валидация данных \n",
        "Перед тем как начать работу с датасетом, важно убедиться, что он содержит корректные данные и в каких-то столбцах нет откровенно невалидных данных.\n",
        "\n",
        "Давайте проверим уникальные значения в столбце action.\n",
        "```\n",
        "# This is formatted as code\n",
        "```\n",
        "\n"
      ]
    },
    {
      "cell_type": "code",
      "metadata": {
        "colab": {
          "base_uri": "https://localhost:8080/"
        },
        "id": "MKDpf6owSo6g",
        "outputId": "2043cf37-815c-4787-c785-181529e9f5c6"
      },
      "source": [
        "events_data.action.unique()"
      ],
      "execution_count": 5,
      "outputs": [
        {
          "output_type": "execute_result",
          "data": {
            "text/plain": [
              "array(['viewed', 'passed', 'discovered', 'started_attempt', 'started_att'],\n",
              "      dtype=object)"
            ]
          },
          "metadata": {
            "tags": []
          },
          "execution_count": 5
        }
      ]
    },
    {
      "cell_type": "markdown",
      "metadata": {
        "id": "Odch-luyVNjT"
      },
      "source": [
        "Давайте создадим ещё одну колонку, в которой значение из колонки timestamp будет переведено в формат даты.\n",
        "\n",
        "Это удобно для группировки по дням, месяцам и т.д"
      ]
    },
    {
      "cell_type": "code",
      "metadata": {
        "id": "dqW5T10yVOI8"
      },
      "source": [
        "events_data['date'] = pd.to_datetime(events_data.timestamp,unit='s')"
      ],
      "execution_count": 6,
      "outputs": []
    },
    {
      "cell_type": "code",
      "metadata": {
        "colab": {
          "base_uri": "https://localhost:8080/",
          "height": 206
        },
        "id": "YHIJEcz1Xcig",
        "outputId": "f5e629f6-def7-4d8a-eee8-e2404e5c1e21"
      },
      "source": [
        "events_data.head()"
      ],
      "execution_count": 7,
      "outputs": [
        {
          "output_type": "execute_result",
          "data": {
            "text/html": [
              "<div>\n",
              "<style scoped>\n",
              "    .dataframe tbody tr th:only-of-type {\n",
              "        vertical-align: middle;\n",
              "    }\n",
              "\n",
              "    .dataframe tbody tr th {\n",
              "        vertical-align: top;\n",
              "    }\n",
              "\n",
              "    .dataframe thead th {\n",
              "        text-align: right;\n",
              "    }\n",
              "</style>\n",
              "<table border=\"1\" class=\"dataframe\">\n",
              "  <thead>\n",
              "    <tr style=\"text-align: right;\">\n",
              "      <th></th>\n",
              "      <th>step_id</th>\n",
              "      <th>timestamp</th>\n",
              "      <th>action</th>\n",
              "      <th>user_id</th>\n",
              "      <th>date</th>\n",
              "    </tr>\n",
              "  </thead>\n",
              "  <tbody>\n",
              "    <tr>\n",
              "      <th>0</th>\n",
              "      <td>32815</td>\n",
              "      <td>1434340848</td>\n",
              "      <td>viewed</td>\n",
              "      <td>17632.0</td>\n",
              "      <td>2015-06-15 04:00:48</td>\n",
              "    </tr>\n",
              "    <tr>\n",
              "      <th>1</th>\n",
              "      <td>32815</td>\n",
              "      <td>1434340848</td>\n",
              "      <td>passed</td>\n",
              "      <td>17632.0</td>\n",
              "      <td>2015-06-15 04:00:48</td>\n",
              "    </tr>\n",
              "    <tr>\n",
              "      <th>2</th>\n",
              "      <td>32815</td>\n",
              "      <td>1434340848</td>\n",
              "      <td>discovered</td>\n",
              "      <td>17632.0</td>\n",
              "      <td>2015-06-15 04:00:48</td>\n",
              "    </tr>\n",
              "    <tr>\n",
              "      <th>3</th>\n",
              "      <td>32811</td>\n",
              "      <td>1434340895</td>\n",
              "      <td>discovered</td>\n",
              "      <td>17632.0</td>\n",
              "      <td>2015-06-15 04:01:35</td>\n",
              "    </tr>\n",
              "    <tr>\n",
              "      <th>4</th>\n",
              "      <td>32811</td>\n",
              "      <td>1434340895</td>\n",
              "      <td>viewed</td>\n",
              "      <td>17632.0</td>\n",
              "      <td>2015-06-15 04:01:35</td>\n",
              "    </tr>\n",
              "  </tbody>\n",
              "</table>\n",
              "</div>"
            ],
            "text/plain": [
              "   step_id   timestamp      action  user_id                date\n",
              "0    32815  1434340848      viewed  17632.0 2015-06-15 04:00:48\n",
              "1    32815  1434340848      passed  17632.0 2015-06-15 04:00:48\n",
              "2    32815  1434340848  discovered  17632.0 2015-06-15 04:00:48\n",
              "3    32811  1434340895  discovered  17632.0 2015-06-15 04:01:35\n",
              "4    32811  1434340895      viewed  17632.0 2015-06-15 04:01:35"
            ]
          },
          "metadata": {
            "tags": []
          },
          "execution_count": 7
        }
      ]
    },
    {
      "cell_type": "code",
      "metadata": {
        "colab": {
          "base_uri": "https://localhost:8080/"
        },
        "id": "ztQtlWFdX30k",
        "outputId": "af3ece2e-9cd1-47ca-f5ae-7b43d060ff3f"
      },
      "source": [
        "events_data.dtypes"
      ],
      "execution_count": 10,
      "outputs": [
        {
          "output_type": "execute_result",
          "data": {
            "text/plain": [
              "step_id               int64\n",
              "timestamp             int64\n",
              "action               object\n",
              "user_id             float64\n",
              "date         datetime64[ns]\n",
              "dtype: object"
            ]
          },
          "metadata": {
            "tags": []
          },
          "execution_count": 10
        }
      ]
    },
    {
      "cell_type": "markdown",
      "metadata": {
        "id": "NAl5gKl2Xjf4"
      },
      "source": [
        "делаем проверку даты на валидность. начальная дата."
      ]
    },
    {
      "cell_type": "code",
      "metadata": {
        "colab": {
          "base_uri": "https://localhost:8080/"
        },
        "id": "MVD2H3iVXkI8",
        "outputId": "b54745d4-f8ac-491f-d167-ab0bc0c192be"
      },
      "source": [
        "events_data.date.min()"
      ],
      "execution_count": 8,
      "outputs": [
        {
          "output_type": "execute_result",
          "data": {
            "text/plain": [
              "Timestamp('2015-06-15 04:00:48')"
            ]
          },
          "metadata": {
            "tags": []
          },
          "execution_count": 8
        }
      ]
    },
    {
      "cell_type": "code",
      "metadata": {
        "colab": {
          "base_uri": "https://localhost:8080/"
        },
        "id": "qUo6V7hGXnrq",
        "outputId": "04fff5cb-c2c1-4afe-a441-146f32b960d2"
      },
      "source": [
        "events_data.date.max()"
      ],
      "execution_count": 9,
      "outputs": [
        {
          "output_type": "execute_result",
          "data": {
            "text/plain": [
              "Timestamp('2015-12-18 11:35:35')"
            ]
          },
          "metadata": {
            "tags": []
          },
          "execution_count": 9
        }
      ]
    },
    {
      "cell_type": "markdown",
      "metadata": {
        "id": "sj2UzR71YGmO"
      },
      "source": [
        "Работа с временем и датой - очень важный аспект в мире Data Science. Практически все базы данных используют timestamp для определения времени события, в машинном обучении есть целое направление - анализ временных рядов, для аналитики продукта очень важно понимать, как располагаются события во времени.\n",
        "\n",
        "Подготовил для вас несколько полезных статей:\n",
        "\n",
        "Работы с датой в Pandas https://medium.com/datadriveninvestor/how-to-work-with-dates-in-pandas-like-a-pro-a84055a4819d и еще один вариант https://www.geeksforgeeks.org/python-working-with-date-and-time-using-pandas/\n",
        "\n",
        "Работа с датой в Python при помощи модуля datetime\n"
      ]
    },
    {
      "cell_type": "markdown",
      "metadata": {
        "id": "iPg-poanYHQ9"
      },
      "source": [
        "создаем колонку \"день\"                               dt. date attribute to return the date property of the underlying data of the given Series object.\n",
        "т.е. из колнки date оно возрващает дату."
      ]
    },
    {
      "cell_type": "code",
      "metadata": {
        "id": "rFI7ZWKbYQrz"
      },
      "source": [
        "events_data['day'] = events_data.date.dt.date"
      ],
      "execution_count": 11,
      "outputs": []
    },
    {
      "cell_type": "code",
      "metadata": {
        "colab": {
          "base_uri": "https://localhost:8080/",
          "height": 206
        },
        "id": "t6_YLZxFYUSg",
        "outputId": "b4b379b4-5223-4ff3-bed7-d159622f6b07"
      },
      "source": [
        "events_data.head()"
      ],
      "execution_count": 12,
      "outputs": [
        {
          "output_type": "execute_result",
          "data": {
            "text/html": [
              "<div>\n",
              "<style scoped>\n",
              "    .dataframe tbody tr th:only-of-type {\n",
              "        vertical-align: middle;\n",
              "    }\n",
              "\n",
              "    .dataframe tbody tr th {\n",
              "        vertical-align: top;\n",
              "    }\n",
              "\n",
              "    .dataframe thead th {\n",
              "        text-align: right;\n",
              "    }\n",
              "</style>\n",
              "<table border=\"1\" class=\"dataframe\">\n",
              "  <thead>\n",
              "    <tr style=\"text-align: right;\">\n",
              "      <th></th>\n",
              "      <th>step_id</th>\n",
              "      <th>timestamp</th>\n",
              "      <th>action</th>\n",
              "      <th>user_id</th>\n",
              "      <th>date</th>\n",
              "      <th>day</th>\n",
              "    </tr>\n",
              "  </thead>\n",
              "  <tbody>\n",
              "    <tr>\n",
              "      <th>0</th>\n",
              "      <td>32815</td>\n",
              "      <td>1434340848</td>\n",
              "      <td>viewed</td>\n",
              "      <td>17632.0</td>\n",
              "      <td>2015-06-15 04:00:48</td>\n",
              "      <td>2015-06-15</td>\n",
              "    </tr>\n",
              "    <tr>\n",
              "      <th>1</th>\n",
              "      <td>32815</td>\n",
              "      <td>1434340848</td>\n",
              "      <td>passed</td>\n",
              "      <td>17632.0</td>\n",
              "      <td>2015-06-15 04:00:48</td>\n",
              "      <td>2015-06-15</td>\n",
              "    </tr>\n",
              "    <tr>\n",
              "      <th>2</th>\n",
              "      <td>32815</td>\n",
              "      <td>1434340848</td>\n",
              "      <td>discovered</td>\n",
              "      <td>17632.0</td>\n",
              "      <td>2015-06-15 04:00:48</td>\n",
              "      <td>2015-06-15</td>\n",
              "    </tr>\n",
              "    <tr>\n",
              "      <th>3</th>\n",
              "      <td>32811</td>\n",
              "      <td>1434340895</td>\n",
              "      <td>discovered</td>\n",
              "      <td>17632.0</td>\n",
              "      <td>2015-06-15 04:01:35</td>\n",
              "      <td>2015-06-15</td>\n",
              "    </tr>\n",
              "    <tr>\n",
              "      <th>4</th>\n",
              "      <td>32811</td>\n",
              "      <td>1434340895</td>\n",
              "      <td>viewed</td>\n",
              "      <td>17632.0</td>\n",
              "      <td>2015-06-15 04:01:35</td>\n",
              "      <td>2015-06-15</td>\n",
              "    </tr>\n",
              "  </tbody>\n",
              "</table>\n",
              "</div>"
            ],
            "text/plain": [
              "   step_id   timestamp      action  user_id                date         day\n",
              "0    32815  1434340848      viewed  17632.0 2015-06-15 04:00:48  2015-06-15\n",
              "1    32815  1434340848      passed  17632.0 2015-06-15 04:00:48  2015-06-15\n",
              "2    32815  1434340848  discovered  17632.0 2015-06-15 04:00:48  2015-06-15\n",
              "3    32811  1434340895  discovered  17632.0 2015-06-15 04:01:35  2015-06-15\n",
              "4    32811  1434340895      viewed  17632.0 2015-06-15 04:01:35  2015-06-15"
            ]
          },
          "metadata": {
            "tags": []
          },
          "execution_count": 12
        }
      ]
    }
  ]
}